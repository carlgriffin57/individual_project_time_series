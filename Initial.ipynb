{
 "cells": [
  {
   "cell_type": "code",
   "execution_count": 1,
   "metadata": {},
   "outputs": [],
   "source": [
    "# for presentation purposes\n",
    "import warnings\n",
    "warnings.filterwarnings(\"ignore\")\n",
    "\n",
    "import numpy as np\n",
    "import pandas as pd\n",
    "\n",
    "# visualize \n",
    "import matplotlib.pyplot as plt\n",
    "%matplotlib inline\n",
    "import seaborn as sns\n",
    "\n",
    "import model\n",
    "\n",
    "# working with dates\n",
    "from datetime import datetime\n",
    "\n",
    "# to evaluated performance using rmse\n",
    "from sklearn.metrics import mean_squared_error\n",
    "from math import sqrt \n",
    "\n",
    "# for tsa \n",
    "import statsmodels.api as sm\n",
    "\n",
    "# holt's linear trend model. \n",
    "from statsmodels.tsa.api import Holt"
   ]
  },
  {
   "cell_type": "code",
   "execution_count": 2,
   "metadata": {},
   "outputs": [],
   "source": [
    "plt.rc('figure', figsize=(13, 6))\n",
    "plt.rc('axes.spines', top=False, right=False)\n",
    "plt.rc('font', size=13)"
   ]
  },
  {
   "cell_type": "code",
   "execution_count": 3,
   "metadata": {},
   "outputs": [],
   "source": [
    "# Read in the data - Global Average Absolute Sea Level Change\n",
    "df = pd.read_csv('sea_levels_2015.csv',index_col=0)"
   ]
  },
  {
   "cell_type": "code",
   "execution_count": 4,
   "metadata": {},
   "outputs": [
    {
     "data": {
      "text/html": [
       "<div>\n",
       "<style scoped>\n",
       "    .dataframe tbody tr th:only-of-type {\n",
       "        vertical-align: middle;\n",
       "    }\n",
       "\n",
       "    .dataframe tbody tr th {\n",
       "        vertical-align: top;\n",
       "    }\n",
       "\n",
       "    .dataframe thead th {\n",
       "        text-align: right;\n",
       "    }\n",
       "</style>\n",
       "<table border=\"1\" class=\"dataframe\">\n",
       "  <thead>\n",
       "    <tr style=\"text-align: right;\">\n",
       "      <th></th>\n",
       "      <th>GMSL</th>\n",
       "      <th>GMSL uncertainty</th>\n",
       "    </tr>\n",
       "    <tr>\n",
       "      <th>Time</th>\n",
       "      <th></th>\n",
       "      <th></th>\n",
       "    </tr>\n",
       "  </thead>\n",
       "  <tbody>\n",
       "    <tr>\n",
       "      <th>2013-08-15</th>\n",
       "      <td>71.6</td>\n",
       "      <td>8.8</td>\n",
       "    </tr>\n",
       "    <tr>\n",
       "      <th>2013-09-15</th>\n",
       "      <td>68.8</td>\n",
       "      <td>8.8</td>\n",
       "    </tr>\n",
       "    <tr>\n",
       "      <th>2013-10-15</th>\n",
       "      <td>66.4</td>\n",
       "      <td>8.9</td>\n",
       "    </tr>\n",
       "    <tr>\n",
       "      <th>2013-11-15</th>\n",
       "      <td>59.7</td>\n",
       "      <td>9.0</td>\n",
       "    </tr>\n",
       "    <tr>\n",
       "      <th>2013-12-15</th>\n",
       "      <td>58.5</td>\n",
       "      <td>9.0</td>\n",
       "    </tr>\n",
       "  </tbody>\n",
       "</table>\n",
       "</div>"
      ],
      "text/plain": [
       "            GMSL  GMSL uncertainty\n",
       "Time                              \n",
       "2013-08-15  71.6               8.8\n",
       "2013-09-15  68.8               8.8\n",
       "2013-10-15  66.4               8.9\n",
       "2013-11-15  59.7               9.0\n",
       "2013-12-15  58.5               9.0"
      ]
     },
     "execution_count": 4,
     "metadata": {},
     "output_type": "execute_result"
    }
   ],
   "source": [
    "df.tail()"
   ]
  },
  {
   "cell_type": "code",
   "execution_count": 5,
   "metadata": {},
   "outputs": [
    {
     "data": {
      "text/plain": [
       "<bound method NDFrame.describe of              GMSL  GMSL uncertainty\n",
       "Time                               \n",
       "1880-01-15 -183.0              24.2\n",
       "1880-02-15 -171.1              24.2\n",
       "1880-03-15 -164.3              24.2\n",
       "1880-04-15 -158.2              24.2\n",
       "1880-05-15 -158.7              24.2\n",
       "...           ...               ...\n",
       "2013-08-15   71.6               8.8\n",
       "2013-09-15   68.8               8.8\n",
       "2013-10-15   66.4               8.9\n",
       "2013-11-15   59.7               9.0\n",
       "2013-12-15   58.5               9.0\n",
       "\n",
       "[1608 rows x 2 columns]>"
      ]
     },
     "execution_count": 5,
     "metadata": {},
     "output_type": "execute_result"
    }
   ],
   "source": [
    "df.describe"
   ]
  },
  {
   "cell_type": "code",
   "execution_count": 6,
   "metadata": {},
   "outputs": [
    {
     "name": "stdout",
     "output_type": "stream",
     "text": [
      "<class 'pandas.core.frame.DataFrame'>\n",
      "Index: 1608 entries, 1880-01-15 to 2013-12-15\n",
      "Data columns (total 2 columns):\n",
      " #   Column            Non-Null Count  Dtype  \n",
      "---  ------            --------------  -----  \n",
      " 0   GMSL              1608 non-null   float64\n",
      " 1   GMSL uncertainty  1608 non-null   float64\n",
      "dtypes: float64(2)\n",
      "memory usage: 37.7+ KB\n"
     ]
    }
   ],
   "source": [
    "df.info()"
   ]
  },
  {
   "cell_type": "code",
   "execution_count": 7,
   "metadata": {},
   "outputs": [
    {
     "data": {
      "text/plain": [
       "GMSL                0\n",
       "GMSL uncertainty    0\n",
       "dtype: int64"
      ]
     },
     "execution_count": 7,
     "metadata": {},
     "output_type": "execute_result"
    }
   ],
   "source": [
    "df.isna().sum()"
   ]
  },
  {
   "cell_type": "code",
   "execution_count": 8,
   "metadata": {},
   "outputs": [
    {
     "data": {
      "text/plain": [
       "GMSL                float64\n",
       "GMSL uncertainty    float64\n",
       "dtype: object"
      ]
     },
     "execution_count": 8,
     "metadata": {},
     "output_type": "execute_result"
    }
   ],
   "source": [
    "df.dtypes"
   ]
  },
  {
   "cell_type": "code",
   "execution_count": 9,
   "metadata": {},
   "outputs": [
    {
     "data": {
      "text/plain": [
       "('1880-01-15', '2013-12-15')"
      ]
     },
     "execution_count": 9,
     "metadata": {},
     "output_type": "execute_result"
    }
   ],
   "source": [
    "df.index.min(), df.index.max()"
   ]
  },
  {
   "cell_type": "code",
   "execution_count": 11,
   "metadata": {},
   "outputs": [
    {
     "data": {
      "text/plain": [
       "(array([ 44., 210., 340., 193., 145., 207., 201., 128.,  82.,  58.]),\n",
       " array([-184.5 , -157.81, -131.12, -104.43,  -77.74,  -51.05,  -24.36,\n",
       "           2.33,   29.02,   55.71,   82.4 ]),\n",
       " <BarContainer object of 10 artists>)"
      ]
     },
     "execution_count": 11,
     "metadata": {},
     "output_type": "execute_result"
    },
    {
     "data": {
      "image/png": "[encoded data removed]",
      "text/plain": [
       "<Figure size 936x432 with 1 Axes>"
      ]
     },
     "metadata": {
      "needs_background": "light"
     },
     "output_type": "display_data"
    }
   ],
   "source": [
    "plt.hist(df['GMSL'])"
   ]
  },
  {
   "cell_type": "code",
   "execution_count": 12,
   "metadata": {},
   "outputs": [
    {
     "data": {
      "text/plain": [
       "(array([745.,  56.,  87., 263., 145.,  21.,  51.,  37., 155.,  48.]),\n",
       " array([ 6.2,  8. ,  9.8, 11.6, 13.4, 15.2, 17. , 18.8, 20.6, 22.4, 24.2]),\n",
       " <BarContainer object of 10 artists>)"
      ]
     },
     "execution_count": 12,
     "metadata": {},
     "output_type": "execute_result"
    },
    {
     "data": {
      "image/png": "[encoded data removed]",
      "text/plain": [
       "<Figure size 936x432 with 1 Axes>"
      ]
     },
     "metadata": {
      "needs_background": "light"
     },
     "output_type": "display_data"
    }
   ],
   "source": [
    "plt.hist(df['GMSL uncertainty'])"
   ]
  },
  {
   "cell_type": "code",
   "execution_count": 10,
   "metadata": {},
   "outputs": [
    {
     "data": {
      "text/plain": [
       "<AxesSubplot:xlabel='Time'>"
      ]
     },
     "execution_count": 10,
     "metadata": {},
     "output_type": "execute_result"
    },
    {
     "data": {
      "image/png": "[encoded data removed]",
      "text/plain": [
       "<Figure size 936x432 with 1 Axes>"
      ]
     },
     "metadata": {
      "needs_background": "light"
     },
     "output_type": "display_data"
    }
   ],
   "source": [
    "df.plot()"
   ]
  },
  {
   "cell_type": "code",
   "execution_count": 24,
   "metadata": {},
   "outputs": [],
   "source": [
    "df['error_percent'] = abs((df['GMSL uncertainty'] / df['GMSL']) * 100)"
   ]
  },
  {
   "cell_type": "code",
   "execution_count": 25,
   "metadata": {},
   "outputs": [
    {
     "data": {
      "text/html": [
       "<div>\n",
       "<style scoped>\n",
       "    .dataframe tbody tr th:only-of-type {\n",
       "        vertical-align: middle;\n",
       "    }\n",
       "\n",
       "    .dataframe tbody tr th {\n",
       "        vertical-align: top;\n",
       "    }\n",
       "\n",
       "    .dataframe thead th {\n",
       "        text-align: right;\n",
       "    }\n",
       "</style>\n",
       "<table border=\"1\" class=\"dataframe\">\n",
       "  <thead>\n",
       "    <tr style=\"text-align: right;\">\n",
       "      <th></th>\n",
       "      <th>GMSL</th>\n",
       "      <th>GMSL uncertainty</th>\n",
       "      <th>error_percent</th>\n",
       "    </tr>\n",
       "    <tr>\n",
       "      <th>Time</th>\n",
       "      <th></th>\n",
       "      <th></th>\n",
       "      <th></th>\n",
       "    </tr>\n",
       "  </thead>\n",
       "  <tbody>\n",
       "    <tr>\n",
       "      <th>1880-01-15</th>\n",
       "      <td>-183.0</td>\n",
       "      <td>24.2</td>\n",
       "      <td>13.224044</td>\n",
       "    </tr>\n",
       "    <tr>\n",
       "      <th>1880-02-15</th>\n",
       "      <td>-171.1</td>\n",
       "      <td>24.2</td>\n",
       "      <td>14.143776</td>\n",
       "    </tr>\n",
       "    <tr>\n",
       "      <th>1880-03-15</th>\n",
       "      <td>-164.3</td>\n",
       "      <td>24.2</td>\n",
       "      <td>14.729154</td>\n",
       "    </tr>\n",
       "    <tr>\n",
       "      <th>1880-04-15</th>\n",
       "      <td>-158.2</td>\n",
       "      <td>24.2</td>\n",
       "      <td>15.297092</td>\n",
       "    </tr>\n",
       "    <tr>\n",
       "      <th>1880-05-15</th>\n",
       "      <td>-158.7</td>\n",
       "      <td>24.2</td>\n",
       "      <td>15.248897</td>\n",
       "    </tr>\n",
       "    <tr>\n",
       "      <th>...</th>\n",
       "      <td>...</td>\n",
       "      <td>...</td>\n",
       "      <td>...</td>\n",
       "    </tr>\n",
       "    <tr>\n",
       "      <th>2013-08-15</th>\n",
       "      <td>71.6</td>\n",
       "      <td>8.8</td>\n",
       "      <td>12.290503</td>\n",
       "    </tr>\n",
       "    <tr>\n",
       "      <th>2013-09-15</th>\n",
       "      <td>68.8</td>\n",
       "      <td>8.8</td>\n",
       "      <td>12.790698</td>\n",
       "    </tr>\n",
       "    <tr>\n",
       "      <th>2013-10-15</th>\n",
       "      <td>66.4</td>\n",
       "      <td>8.9</td>\n",
       "      <td>13.403614</td>\n",
       "    </tr>\n",
       "    <tr>\n",
       "      <th>2013-11-15</th>\n",
       "      <td>59.7</td>\n",
       "      <td>9.0</td>\n",
       "      <td>15.075377</td>\n",
       "    </tr>\n",
       "    <tr>\n",
       "      <th>2013-12-15</th>\n",
       "      <td>58.5</td>\n",
       "      <td>9.0</td>\n",
       "      <td>15.384615</td>\n",
       "    </tr>\n",
       "  </tbody>\n",
       "</table>\n",
       "<p>1608 rows × 3 columns</p>\n",
       "</div>"
      ],
      "text/plain": [
       "             GMSL  GMSL uncertainty  error_percent\n",
       "Time                                              \n",
       "1880-01-15 -183.0              24.2      13.224044\n",
       "1880-02-15 -171.1              24.2      14.143776\n",
       "1880-03-15 -164.3              24.2      14.729154\n",
       "1880-04-15 -158.2              24.2      15.297092\n",
       "1880-05-15 -158.7              24.2      15.248897\n",
       "...           ...               ...            ...\n",
       "2013-08-15   71.6               8.8      12.290503\n",
       "2013-09-15   68.8               8.8      12.790698\n",
       "2013-10-15   66.4               8.9      13.403614\n",
       "2013-11-15   59.7               9.0      15.075377\n",
       "2013-12-15   58.5               9.0      15.384615\n",
       "\n",
       "[1608 rows x 3 columns]"
      ]
     },
     "execution_count": 25,
     "metadata": {},
     "output_type": "execute_result"
    }
   ],
   "source": [
    "df"
   ]
  },
  {
   "cell_type": "markdown",
   "metadata": {},
   "source": [
    "Sea levels show a steadily upward trend since 1880."
   ]
  },
  {
   "cell_type": "code",
   "execution_count": 27,
   "metadata": {},
   "outputs": [],
   "source": [
    "# convert mm to inches\n",
    "df['GMSL'] = df['GMSL'] / 25.4"
   ]
  },
  {
   "cell_type": "code",
   "execution_count": 28,
   "metadata": {},
   "outputs": [
    {
     "data": {
      "text/html": [
       "<div>\n",
       "<style scoped>\n",
       "    .dataframe tbody tr th:only-of-type {\n",
       "        vertical-align: middle;\n",
       "    }\n",
       "\n",
       "    .dataframe tbody tr th {\n",
       "        vertical-align: top;\n",
       "    }\n",
       "\n",
       "    .dataframe thead th {\n",
       "        text-align: right;\n",
       "    }\n",
       "</style>\n",
       "<table border=\"1\" class=\"dataframe\">\n",
       "  <thead>\n",
       "    <tr style=\"text-align: right;\">\n",
       "      <th></th>\n",
       "      <th>GMSL</th>\n",
       "      <th>GMSL uncertainty</th>\n",
       "      <th>error_percent</th>\n",
       "    </tr>\n",
       "    <tr>\n",
       "      <th>Time</th>\n",
       "      <th></th>\n",
       "      <th></th>\n",
       "      <th></th>\n",
       "    </tr>\n",
       "  </thead>\n",
       "  <tbody>\n",
       "    <tr>\n",
       "      <th>1880-01-15</th>\n",
       "      <td>-7.204724</td>\n",
       "      <td>24.2</td>\n",
       "      <td>13.224044</td>\n",
       "    </tr>\n",
       "    <tr>\n",
       "      <th>1880-02-15</th>\n",
       "      <td>-6.736220</td>\n",
       "      <td>24.2</td>\n",
       "      <td>14.143776</td>\n",
       "    </tr>\n",
       "    <tr>\n",
       "      <th>1880-03-15</th>\n",
       "      <td>-6.468504</td>\n",
       "      <td>24.2</td>\n",
       "      <td>14.729154</td>\n",
       "    </tr>\n",
       "    <tr>\n",
       "      <th>1880-04-15</th>\n",
       "      <td>-6.228346</td>\n",
       "      <td>24.2</td>\n",
       "      <td>15.297092</td>\n",
       "    </tr>\n",
       "    <tr>\n",
       "      <th>1880-05-15</th>\n",
       "      <td>-6.248031</td>\n",
       "      <td>24.2</td>\n",
       "      <td>15.248897</td>\n",
       "    </tr>\n",
       "    <tr>\n",
       "      <th>...</th>\n",
       "      <td>...</td>\n",
       "      <td>...</td>\n",
       "      <td>...</td>\n",
       "    </tr>\n",
       "    <tr>\n",
       "      <th>2013-08-15</th>\n",
       "      <td>2.818898</td>\n",
       "      <td>8.8</td>\n",
       "      <td>12.290503</td>\n",
       "    </tr>\n",
       "    <tr>\n",
       "      <th>2013-09-15</th>\n",
       "      <td>2.708661</td>\n",
       "      <td>8.8</td>\n",
       "      <td>12.790698</td>\n",
       "    </tr>\n",
       "    <tr>\n",
       "      <th>2013-10-15</th>\n",
       "      <td>2.614173</td>\n",
       "      <td>8.9</td>\n",
       "      <td>13.403614</td>\n",
       "    </tr>\n",
       "    <tr>\n",
       "      <th>2013-11-15</th>\n",
       "      <td>2.350394</td>\n",
       "      <td>9.0</td>\n",
       "      <td>15.075377</td>\n",
       "    </tr>\n",
       "    <tr>\n",
       "      <th>2013-12-15</th>\n",
       "      <td>2.303150</td>\n",
       "      <td>9.0</td>\n",
       "      <td>15.384615</td>\n",
       "    </tr>\n",
       "  </tbody>\n",
       "</table>\n",
       "<p>1608 rows × 3 columns</p>\n",
       "</div>"
      ],
      "text/plain": [
       "                GMSL  GMSL uncertainty  error_percent\n",
       "Time                                                 \n",
       "1880-01-15 -7.204724              24.2      13.224044\n",
       "1880-02-15 -6.736220              24.2      14.143776\n",
       "1880-03-15 -6.468504              24.2      14.729154\n",
       "1880-04-15 -6.228346              24.2      15.297092\n",
       "1880-05-15 -6.248031              24.2      15.248897\n",
       "...              ...               ...            ...\n",
       "2013-08-15  2.818898               8.8      12.290503\n",
       "2013-09-15  2.708661               8.8      12.790698\n",
       "2013-10-15  2.614173               8.9      13.403614\n",
       "2013-11-15  2.350394               9.0      15.075377\n",
       "2013-12-15  2.303150               9.0      15.384615\n",
       "\n",
       "[1608 rows x 3 columns]"
      ]
     },
     "execution_count": 28,
     "metadata": {},
     "output_type": "execute_result"
    }
   ],
   "source": [
    "df"
   ]
  },
  {
   "cell_type": "code",
   "execution_count": 29,
   "metadata": {},
   "outputs": [],
   "source": [
    "df['GMSL uncertainty'] = df['GMSL uncertainty'] / 25.4"
   ]
  },
  {
   "cell_type": "code",
   "execution_count": 30,
   "metadata": {},
   "outputs": [
    {
     "data": {
      "text/html": [
       "<div>\n",
       "<style scoped>\n",
       "    .dataframe tbody tr th:only-of-type {\n",
       "        vertical-align: middle;\n",
       "    }\n",
       "\n",
       "    .dataframe tbody tr th {\n",
       "        vertical-align: top;\n",
       "    }\n",
       "\n",
       "    .dataframe thead th {\n",
       "        text-align: right;\n",
       "    }\n",
       "</style>\n",
       "<table border=\"1\" class=\"dataframe\">\n",
       "  <thead>\n",
       "    <tr style=\"text-align: right;\">\n",
       "      <th></th>\n",
       "      <th>GMSL</th>\n",
       "      <th>GMSL uncertainty</th>\n",
       "      <th>error_percent</th>\n",
       "    </tr>\n",
       "    <tr>\n",
       "      <th>Time</th>\n",
       "      <th></th>\n",
       "      <th></th>\n",
       "      <th></th>\n",
       "    </tr>\n",
       "  </thead>\n",
       "  <tbody>\n",
       "    <tr>\n",
       "      <th>1880-01-15</th>\n",
       "      <td>-7.204724</td>\n",
       "      <td>0.952756</td>\n",
       "      <td>13.224044</td>\n",
       "    </tr>\n",
       "    <tr>\n",
       "      <th>1880-02-15</th>\n",
       "      <td>-6.736220</td>\n",
       "      <td>0.952756</td>\n",
       "      <td>14.143776</td>\n",
       "    </tr>\n",
       "    <tr>\n",
       "      <th>1880-03-15</th>\n",
       "      <td>-6.468504</td>\n",
       "      <td>0.952756</td>\n",
       "      <td>14.729154</td>\n",
       "    </tr>\n",
       "    <tr>\n",
       "      <th>1880-04-15</th>\n",
       "      <td>-6.228346</td>\n",
       "      <td>0.952756</td>\n",
       "      <td>15.297092</td>\n",
       "    </tr>\n",
       "    <tr>\n",
       "      <th>1880-05-15</th>\n",
       "      <td>-6.248031</td>\n",
       "      <td>0.952756</td>\n",
       "      <td>15.248897</td>\n",
       "    </tr>\n",
       "    <tr>\n",
       "      <th>...</th>\n",
       "      <td>...</td>\n",
       "      <td>...</td>\n",
       "      <td>...</td>\n",
       "    </tr>\n",
       "    <tr>\n",
       "      <th>2013-08-15</th>\n",
       "      <td>2.818898</td>\n",
       "      <td>0.346457</td>\n",
       "      <td>12.290503</td>\n",
       "    </tr>\n",
       "    <tr>\n",
       "      <th>2013-09-15</th>\n",
       "      <td>2.708661</td>\n",
       "      <td>0.346457</td>\n",
       "      <td>12.790698</td>\n",
       "    </tr>\n",
       "    <tr>\n",
       "      <th>2013-10-15</th>\n",
       "      <td>2.614173</td>\n",
       "      <td>0.350394</td>\n",
       "      <td>13.403614</td>\n",
       "    </tr>\n",
       "    <tr>\n",
       "      <th>2013-11-15</th>\n",
       "      <td>2.350394</td>\n",
       "      <td>0.354331</td>\n",
       "      <td>15.075377</td>\n",
       "    </tr>\n",
       "    <tr>\n",
       "      <th>2013-12-15</th>\n",
       "      <td>2.303150</td>\n",
       "      <td>0.354331</td>\n",
       "      <td>15.384615</td>\n",
       "    </tr>\n",
       "  </tbody>\n",
       "</table>\n",
       "<p>1608 rows × 3 columns</p>\n",
       "</div>"
      ],
      "text/plain": [
       "                GMSL  GMSL uncertainty  error_percent\n",
       "Time                                                 \n",
       "1880-01-15 -7.204724          0.952756      13.224044\n",
       "1880-02-15 -6.736220          0.952756      14.143776\n",
       "1880-03-15 -6.468504          0.952756      14.729154\n",
       "1880-04-15 -6.228346          0.952756      15.297092\n",
       "1880-05-15 -6.248031          0.952756      15.248897\n",
       "...              ...               ...            ...\n",
       "2013-08-15  2.818898          0.346457      12.290503\n",
       "2013-09-15  2.708661          0.346457      12.790698\n",
       "2013-10-15  2.614173          0.350394      13.403614\n",
       "2013-11-15  2.350394          0.354331      15.075377\n",
       "2013-12-15  2.303150          0.354331      15.384615\n",
       "\n",
       "[1608 rows x 3 columns]"
      ]
     },
     "execution_count": 30,
     "metadata": {},
     "output_type": "execute_result"
    }
   ],
   "source": [
    "df"
   ]
  },
  {
   "cell_type": "code",
   "execution_count": 32,
   "metadata": {},
   "outputs": [
    {
     "data": {
      "text/plain": [
       "<AxesSubplot:xlabel='Time'>"
      ]
     },
     "execution_count": 32,
     "metadata": {},
     "output_type": "execute_result"
    },
    {
     "data": {
      "image/png": "[encoded data removed]",
      "text/plain": [
       "<Figure size 936x432 with 1 Axes>"
      ]
     },
     "metadata": {
      "needs_background": "light"
     },
     "output_type": "display_data"
    }
   ],
   "source": [
    "df['GMSL'].plot()"
   ]
  },
  {
   "cell_type": "code",
   "execution_count": null,
   "metadata": {},
   "outputs": [],
   "source": []
  }
 ],
 "metadata": {
  "kernelspec": {
   "display_name": "Python 3",
   "language": "python",
   "name": "python3"
  },
  "language_info": {
   "codemirror_mode": {
    "name": "ipython",
    "version": 3
   },
   "file_extension": ".py",
   "mimetype": "text/x-python",
   "name": "python",
   "nbconvert_exporter": "python",
   "pygments_lexer": "ipython3",
   "version": "3.8.5"
  },
  "toc": {
   "base_numbering": 1,
   "nav_menu": {},
   "number_sections": true,
   "sideBar": true,
   "skip_h1_title": false,
   "title_cell": "Table of Contents",
   "title_sidebar": "Contents",
   "toc_cell": false,
   "toc_position": {},
   "toc_section_display": true,
   "toc_window_display": false
  }
 },
 "nbformat": 4,
 "nbformat_minor": 4
}
